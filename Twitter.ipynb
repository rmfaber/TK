{
 "cells": [
  {
   "cell_type": "code",
   "execution_count": 1,
   "metadata": {},
   "outputs": [],
   "source": [
    "import os\n",
    "import json"
   ]
  },
  {
   "cell_type": "code",
   "execution_count": 2,
   "metadata": {},
   "outputs": [],
   "source": [
    "import twitter\n",
    "\n",
    "api = twitter.Api(consumer_key = 'qZD4DVUOIV5cQrMJAUU8iedBC',\n",
    "                 consumer_secret = 'g3QfFt9DgVBbT0ATienm7iZLGqnYj8AYlmBlFg2sJZBhS1xfxO',\n",
    "                 access_token_key = '974647689915838465-VkdYMI5fdRkyXmKAJWPWAYd70m7INyh',\n",
    "                 access_token_secret = 'hesQtELuVKXsfUicI4vWOENdJqXxxECtoHyiogwz7G9Yw')"
   ]
  },
  {
   "cell_type": "code",
   "execution_count": 3,
   "metadata": {},
   "outputs": [],
   "source": [
    "USERS = ['@peterkwint']\n",
    "LANGUAGES = ['nl']"
   ]
  },
  {
   "cell_type": "code",
   "execution_count": null,
   "metadata": {
    "scrolled": true
   },
   "outputs": [],
   "source": [
    "def main():\n",
    "    with open('output.txt','a') as f:\n",
    "        for line in api.GetStreamFilter(track=USERS,languages=LANGUAGES):\n",
    "            f.write(json.dumps(line))\n",
    "            f.write('\\n')"
   ]
  },
  {
   "cell_type": "code",
   "execution_count": null,
   "metadata": {},
   "outputs": [],
   "source": [
    "if __name__ == '__main__':\n",
    "    main()"
   ]
  }
 ],
 "metadata": {
  "kernelspec": {
   "display_name": "Python 3",
   "language": "python",
   "name": "python3"
  },
  "language_info": {
   "codemirror_mode": {
    "name": "ipython",
    "version": 3
   },
   "file_extension": ".py",
   "mimetype": "text/x-python",
   "name": "python",
   "nbconvert_exporter": "python",
   "pygments_lexer": "ipython3",
   "version": "3.6.1"
  }
 },
 "nbformat": 4,
 "nbformat_minor": 2
}
